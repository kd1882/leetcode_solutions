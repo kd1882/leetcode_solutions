{
 "cells": [
  {
   "cell_type": "code",
   "execution_count": null,
   "id": "647b347c-698a-47e6-b19b-90387541e878",
   "metadata": {},
   "outputs": [],
   "source": [
    "# Commented out rows showcase how to install modules and packages within jupyter\n",
    "\n",
    "# !{sys.executable} -m pip install ''\n"
   ]
  },
  {
   "cell_type": "code",
   "execution_count": 1,
   "id": "b12d7679-69d3-428a-88c1-a783066a6f31",
   "metadata": {
    "tags": []
   },
   "outputs": [],
   "source": [
    "import re"
   ]
  },
  {
   "cell_type": "code",
   "execution_count": 2,
   "id": "51101116-98da-4c72-9180-f16911255cb8",
   "metadata": {
    "tags": []
   },
   "outputs": [],
   "source": [
    "test_string = ['yes', 'yeet', 'yea']"
   ]
  },
  {
   "cell_type": "code",
   "execution_count": 5,
   "id": "17d333b1-2626-449c-88df-5aba9cad7ce4",
   "metadata": {
    "tags": []
   },
   "outputs": [],
   "source": [
    "blank_list = []\n",
    "\n",
    "for i in test_string:\n",
    "    new_string = i[0:2]\n",
    "    blank_list.append(new_string)"
   ]
  },
  {
   "cell_type": "code",
   "execution_count": 6,
   "id": "69117f93-c3f0-4e6c-8217-96f5f757ca76",
   "metadata": {
    "tags": []
   },
   "outputs": [
    {
     "data": {
      "text/plain": [
       "['ye', 'ye', 'ye']"
      ]
     },
     "execution_count": 6,
     "metadata": {},
     "output_type": "execute_result"
    }
   ],
   "source": [
    "blank_list"
   ]
  },
  {
   "cell_type": "code",
   "execution_count": null,
   "id": "ddb60c50-e3b6-40c9-ad51-41ad9d81730c",
   "metadata": {},
   "outputs": [],
   "source": [
    "for i in blank_list:\n",
    "    "
   ]
  }
 ],
 "metadata": {
  "kernelspec": {
   "display_name": "Python 3 (ipykernel)",
   "language": "python",
   "name": "python3"
  },
  "language_info": {
   "codemirror_mode": {
    "name": "ipython",
    "version": 3
   },
   "file_extension": ".py",
   "mimetype": "text/x-python",
   "name": "python",
   "nbconvert_exporter": "python",
   "pygments_lexer": "ipython3",
   "version": "3.11.2"
  }
 },
 "nbformat": 4,
 "nbformat_minor": 5
}
