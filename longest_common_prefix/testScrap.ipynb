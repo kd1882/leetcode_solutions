{
 "cells": [
  {
   "cell_type": "code",
   "execution_count": null,
   "id": "647b347c-698a-47e6-b19b-90387541e878",
   "metadata": {},
   "outputs": [],
   "source": [
    "# Commented out rows showcase how to install modules and packages within jupyter\n",
    "\n",
    "# !{sys.executable} -m pip install ''\n"
   ]
  },
  {
   "cell_type": "code",
   "execution_count": 1,
   "id": "b12d7679-69d3-428a-88c1-a783066a6f31",
   "metadata": {
    "tags": []
   },
   "outputs": [],
   "source": [
    "import re"
   ]
  },
  {
   "cell_type": "code",
   "execution_count": 2,
   "id": "13f896df-bec8-4e74-80f9-d624102d2ced",
   "metadata": {
    "tags": []
   },
   "outputs": [],
   "source": [
    "s = \"abcabcbb\""
   ]
  },
  {
   "cell_type": "code",
   "execution_count": 10,
   "id": "667c693d-b164-4967-b124-7a309cefdb32",
   "metadata": {
    "tags": []
   },
   "outputs": [
    {
     "name": "stdout",
     "output_type": "stream",
     "text": [
      "a\n",
      "b\n",
      "c\n",
      "a\n",
      "b\n",
      "c\n",
      "b\n",
      "b\n"
     ]
    }
   ],
   "source": [
    "for i, char in enumerate(s):\n",
    "    print(char)"
   ]
  },
  {
   "cell_type": "code",
   "execution_count": 5,
   "id": "0e9e2d68-c0fe-4b35-a53e-f93abee7387d",
   "metadata": {
    "tags": []
   },
   "outputs": [],
   "source": [
    "str_dict = {}\n",
    "max_len = start = 0"
   ]
  },
  {
   "cell_type": "code",
   "execution_count": 6,
   "id": "357a1e36-b505-41af-84cd-ba5f79f0de3b",
   "metadata": {
    "tags": []
   },
   "outputs": [],
   "source": [
    "for i, char in enumerate(s):\n",
    "            if char in str_dict and str_dict[char] >= start:\n",
    "                start = str_dict[char] + 1\n",
    "            max_len = max(max_len, i - start + 1)\n",
    "            str_dict[char] = i"
   ]
  },
  {
   "cell_type": "code",
   "execution_count": 7,
   "id": "35bd4750-a55a-48e9-85b5-c93314ad1ac2",
   "metadata": {
    "tags": []
   },
   "outputs": [
    {
     "data": {
      "text/plain": [
       "{'a': 3, 'b': 7, 'c': 5}"
      ]
     },
     "execution_count": 7,
     "metadata": {},
     "output_type": "execute_result"
    }
   ],
   "source": [
    "str_dict"
   ]
  },
  {
   "cell_type": "code",
   "execution_count": 8,
   "id": "f997cd0e-9689-4e06-96a2-9beb404dee93",
   "metadata": {
    "tags": []
   },
   "outputs": [
    {
     "data": {
      "text/plain": [
       "7"
      ]
     },
     "execution_count": 8,
     "metadata": {},
     "output_type": "execute_result"
    }
   ],
   "source": [
    "start"
   ]
  },
  {
   "cell_type": "code",
   "execution_count": 9,
   "id": "ba639706-b02c-4161-a8be-c64820d6273f",
   "metadata": {
    "tags": []
   },
   "outputs": [
    {
     "data": {
      "text/plain": [
       "3"
      ]
     },
     "execution_count": 9,
     "metadata": {},
     "output_type": "execute_result"
    }
   ],
   "source": [
    "max_len"
   ]
  },
  {
   "cell_type": "code",
   "execution_count": 12,
   "id": "7ee1f8d2-ff3b-458b-b1e4-f47543506747",
   "metadata": {
    "tags": []
   },
   "outputs": [
    {
     "ename": "KeyError",
     "evalue": "0",
     "output_type": "error",
     "traceback": [
      "\u001b[0;31m---------------------------------------------------------------------------\u001b[0m",
      "\u001b[0;31mKeyError\u001b[0m                                  Traceback (most recent call last)",
      "Cell \u001b[0;32mIn[12], line 1\u001b[0m\n\u001b[0;32m----> 1\u001b[0m \u001b[43mstr_dict\u001b[49m\u001b[43m[\u001b[49m\u001b[38;5;241;43m0\u001b[39;49m\u001b[43m]\u001b[49m\n",
      "\u001b[0;31mKeyError\u001b[0m: 0"
     ]
    }
   ],
   "source": [
    "str_dict[]"
   ]
  }
 ],
 "metadata": {
  "kernelspec": {
   "display_name": "Python 3 (ipykernel)",
   "language": "python",
   "name": "python3"
  },
  "language_info": {
   "codemirror_mode": {
    "name": "ipython",
    "version": 3
   },
   "file_extension": ".py",
   "mimetype": "text/x-python",
   "name": "python",
   "nbconvert_exporter": "python",
   "pygments_lexer": "ipython3",
   "version": "3.11.2"
  }
 },
 "nbformat": 4,
 "nbformat_minor": 5
}
