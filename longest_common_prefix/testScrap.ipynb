{
 "cells": [
  {
   "cell_type": "code",
   "execution_count": null,
   "id": "647b347c-698a-47e6-b19b-90387541e878",
   "metadata": {},
   "outputs": [],
   "source": [
    "# Commented out rows showcase how to install modules and packages within jupyter\n",
    "\n",
    "# !{sys.executable} -m pip install ''\n"
   ]
  },
  {
   "cell_type": "code",
   "execution_count": 1,
   "id": "b12d7679-69d3-428a-88c1-a783066a6f31",
   "metadata": {
    "tags": []
   },
   "outputs": [],
   "source": [
    "import re"
   ]
  },
  {
   "cell_type": "code",
   "execution_count": 24,
   "id": "51101116-98da-4c72-9180-f16911255cb8",
   "metadata": {
    "tags": []
   },
   "outputs": [],
   "source": [
    "strings = ['yes', 'yeet', 'yea']"
   ]
  },
  {
   "cell_type": "code",
   "execution_count": 32,
   "id": "716117c6-5631-4189-8a06-b4dd21655a7a",
   "metadata": {
    "tags": []
   },
   "outputs": [],
   "source": [
    "strings = ['yesssss', 'yesa', 'yesea', 'yesp']"
   ]
  },
  {
   "cell_type": "code",
   "execution_count": 33,
   "id": "2eecf0d6-50df-4d93-9785-481b9e83b359",
   "metadata": {
    "tags": []
   },
   "outputs": [],
   "source": [
    "shortest_string = min(strings, key=len)"
   ]
  },
  {
   "cell_type": "code",
   "execution_count": 34,
   "id": "4c1b7d79-ee0d-4554-bb7b-c0697ed8cdfd",
   "metadata": {
    "tags": []
   },
   "outputs": [
    {
     "data": {
      "text/plain": [
       "'yesa'"
      ]
     },
     "execution_count": 34,
     "metadata": {},
     "output_type": "execute_result"
    }
   ],
   "source": [
    "shortest_string"
   ]
  },
  {
   "cell_type": "code",
   "execution_count": 35,
   "id": "9339b95a-8073-4436-b774-ee76d79b6498",
   "metadata": {
    "tags": []
   },
   "outputs": [],
   "source": [
    "common_prefix = \"\""
   ]
  },
  {
   "cell_type": "code",
   "execution_count": 36,
   "id": "958e2e1d-d5d0-4b8c-a220-92fa3752e911",
   "metadata": {
    "tags": []
   },
   "outputs": [
    {
     "name": "stdout",
     "output_type": "stream",
     "text": [
      "y\n",
      "e\n",
      "s\n",
      "a\n"
     ]
    }
   ],
   "source": [
    "for i in range(len(shortest_string)):\n",
    "    current_char = shortest_string[i]\n",
    "    print(current_char)"
   ]
  },
  {
   "cell_type": "code",
   "execution_count": 25,
   "id": "17d333b1-2626-449c-88df-5aba9cad7ce4",
   "metadata": {
    "tags": []
   },
   "outputs": [],
   "source": [
    "def longest_common_prefix(strings):\n",
    "    if not strings:\n",
    "        return \"\"\n",
    "\n",
    "    # Find the shortest string in the input list\n",
    "    shortest_string = min(strings, key=len)\n",
    "\n",
    "    # Initialize an empty common prefix\n",
    "    common_prefix = \"\"\n",
    "\n",
    "    # Iterate through the characters of the shortest string\n",
    "    for i in range(len(shortest_string)):\n",
    "        current_char = shortest_string[i]\n",
    "\n",
    "        # Check if the current character is common across all strings\n",
    "        if all(string[i] == current_char for string in strings):\n",
    "            common_prefix += current_char\n",
    "        else:\n",
    "            break\n",
    "\n",
    "    return common_prefix"
   ]
  },
  {
   "cell_type": "code",
   "execution_count": 26,
   "id": "69117f93-c3f0-4e6c-8217-96f5f757ca76",
   "metadata": {
    "tags": []
   },
   "outputs": [
    {
     "name": "stdout",
     "output_type": "stream",
     "text": [
      "ye\n"
     ]
    }
   ],
   "source": [
    "print(longest_common_prefix(strings)) "
   ]
  },
  {
   "cell_type": "code",
   "execution_count": 10,
   "id": "ddb60c50-e3b6-40c9-ad51-41ad9d81730c",
   "metadata": {
    "tags": []
   },
   "outputs": [
    {
     "data": {
      "text/plain": [
       "True"
      ]
     },
     "execution_count": 10,
     "metadata": {},
     "output_type": "execute_result"
    }
   ],
   "source": [
    "test_string[0][1] == chest_string[1][1]\n",
    "    "
   ]
  },
  {
   "cell_type": "code",
   "execution_count": 13,
   "id": "8cad37b6-9781-46f6-9d5b-f5421cd34426",
   "metadata": {
    "tags": []
   },
   "outputs": [
    {
     "name": "stdout",
     "output_type": "stream",
     "text": [
      "0 yes\n",
      "1 yeet\n",
      "2 yea\n"
     ]
    }
   ],
   "source": [
    "for i in range(len(test_string)):\n",
    "    print(i, test_string[i])\n",
    "    \n",
    "    "
   ]
  }
 ],
 "metadata": {
  "kernelspec": {
   "display_name": "Python 3 (ipykernel)",
   "language": "python",
   "name": "python3"
  },
  "language_info": {
   "codemirror_mode": {
    "name": "ipython",
    "version": 3
   },
   "file_extension": ".py",
   "mimetype": "text/x-python",
   "name": "python",
   "nbconvert_exporter": "python",
   "pygments_lexer": "ipython3",
   "version": "3.11.2"
  }
 },
 "nbformat": 4,
 "nbformat_minor": 5
}
